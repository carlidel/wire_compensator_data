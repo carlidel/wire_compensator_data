{
 "cells": [
  {
   "cell_type": "code",
   "execution_count": 1,
   "metadata": {},
   "outputs": [],
   "source": [
    "from sympy import *\n",
    "import numpy as np"
   ]
  },
  {
   "cell_type": "code",
   "execution_count": 2,
   "metadata": {},
   "outputs": [],
   "source": [
    "# create symbols\n",
    "rho, kappa, n = symbols('rho, kappa, n')"
   ]
  },
  {
   "cell_type": "code",
   "execution_count": 4,
   "metadata": {},
   "outputs": [
    {
     "data": {
      "text/latex": [
       "$\\displaystyle \\rho \\left(\\frac{\\kappa}{2 e}\\right)^{\\kappa} \\log{\\left(n \\right)}^{- \\kappa}$"
      ],
      "text/plain": [
       "rho*(kappa*exp(-1)/2)**kappa/log(n)**kappa"
      ]
     },
     "execution_count": 4,
     "metadata": {},
     "output_type": "execute_result"
    }
   ],
   "source": [
    "model_2 = rho * (kappa / (2 * exp(1))) ** kappa * (1 / ln(n) ** kappa)\n",
    "model_2"
   ]
  },
  {
   "cell_type": "code",
   "execution_count": 5,
   "metadata": {},
   "outputs": [
    {
     "data": {
      "text/latex": [
       "$\\displaystyle - \\frac{\\kappa \\rho \\left(\\frac{\\kappa}{2 e}\\right)^{\\kappa} \\log{\\left(n \\right)}^{- \\kappa}}{n \\log{\\left(n \\right)}}$"
      ],
      "text/plain": [
       "-kappa*rho*(kappa*exp(-1)/2)**kappa/(n*log(n)*log(n)**kappa)"
      ]
     },
     "execution_count": 5,
     "metadata": {},
     "output_type": "execute_result"
    }
   ],
   "source": [
    "# compute derivative of model_2\n",
    "model_2.diff(n)"
   ]
  },
  {
   "cell_type": "code",
   "execution_count": 6,
   "metadata": {},
   "outputs": [
    {
     "data": {
      "text/latex": [
       "$\\displaystyle - \\left(\\rho^{2} \\left(\\frac{\\kappa}{2 e}\\right)^{2 \\kappa} \\log{\\left(n \\right)}^{- 2 \\kappa} + 1\\right) e^{- \\rho^{2} \\left(\\frac{\\kappa}{2 e}\\right)^{2 \\kappa} \\log{\\left(n \\right)}^{- 2 \\kappa}} + 1$"
      ],
      "text/plain": [
       "-(rho**2*(kappa*exp(-1)/2)**(2*kappa)/log(n)**(2*kappa) + 1)*exp(-rho**2*(kappa*exp(-1)/2)**(2*kappa)/log(n)**(2*kappa)) + 1"
      ]
     },
     "execution_count": 6,
     "metadata": {},
     "output_type": "execute_result"
    }
   ],
   "source": [
    "relative_loss_eq = 1 - (1 + model_2 ** 2) * exp(-model_2**2)\n",
    "relative_loss_eq"
   ]
  },
  {
   "cell_type": "code",
   "execution_count": 7,
   "metadata": {},
   "outputs": [
    {
     "data": {
      "text/latex": [
       "$\\displaystyle \\frac{2 \\kappa \\rho^{2} \\left(\\frac{\\kappa}{2 e}\\right)^{2 \\kappa} \\left(- \\rho^{2} \\left(\\frac{\\kappa}{2 e}\\right)^{2 \\kappa} \\log{\\left(n \\right)}^{- 2 \\kappa} - 1\\right) e^{- \\rho^{2} \\left(\\frac{\\kappa}{2 e}\\right)^{2 \\kappa} \\log{\\left(n \\right)}^{- 2 \\kappa}} \\log{\\left(n \\right)}^{- 2 \\kappa}}{n \\log{\\left(n \\right)}} + \\frac{2 \\kappa \\rho^{2} \\left(\\frac{\\kappa}{2 e}\\right)^{2 \\kappa} e^{- \\rho^{2} \\left(\\frac{\\kappa}{2 e}\\right)^{2 \\kappa} \\log{\\left(n \\right)}^{- 2 \\kappa}} \\log{\\left(n \\right)}^{- 2 \\kappa}}{n \\log{\\left(n \\right)}}$"
      ],
      "text/plain": [
       "2*kappa*rho**2*(kappa*exp(-1)/2)**(2*kappa)*(-rho**2*(kappa*exp(-1)/2)**(2*kappa)/log(n)**(2*kappa) - 1)*exp(-rho**2*(kappa*exp(-1)/2)**(2*kappa)/log(n)**(2*kappa))/(n*log(n)*log(n)**(2*kappa)) + 2*kappa*rho**2*(kappa*exp(-1)/2)**(2*kappa)*exp(-rho**2*(kappa*exp(-1)/2)**(2*kappa)/log(n)**(2*kappa))/(n*log(n)*log(n)**(2*kappa))"
      ]
     },
     "execution_count": 7,
     "metadata": {},
     "output_type": "execute_result"
    }
   ],
   "source": [
    "relative_loss_eq.diff(n)"
   ]
  },
  {
   "cell_type": "code",
   "execution_count": 8,
   "metadata": {},
   "outputs": [
    {
     "data": {
      "text/plain": [
       "\"kappa = Symbol('kappa')\\nrho = Symbol('rho')\\nn = Symbol('n')\\ne = 2*kappa*rho**2*(kappa*exp(-1)/2)**(2*kappa)*(-rho**2*(kappa*exp(-1)/2)**(2*kappa)/log(n)**(2*kappa) - 1)*exp(-rho**2*(kappa*exp(-1)/2)**(2*kappa)/log(n)**(2*kappa))/(n*log(n)*log(n)**(2*kappa)) + 2*kappa*rho**2*(kappa*exp(-1)/2)**(2*kappa)*exp(-rho**2*(kappa*exp(-1)/2)**(2*kappa)/log(n)**(2*kappa))/(n*log(n)*log(n)**(2*kappa))\""
      ]
     },
     "execution_count": 8,
     "metadata": {},
     "output_type": "execute_result"
    }
   ],
   "source": [
    "python(relative_loss_eq.diff(n))"
   ]
  },
  {
   "cell_type": "code",
   "execution_count": 9,
   "metadata": {},
   "outputs": [
    {
     "data": {
      "text/latex": [
       "$\\displaystyle \\frac{2 \\kappa \\rho^{2} \\left(\\frac{\\kappa}{2 e}\\right)^{2 \\kappa} \\left(- \\rho^{2} \\left(\\frac{\\kappa}{2 e}\\right)^{2 \\kappa} \\log{\\left(n \\right)}^{- 2 \\kappa} - 1\\right) e^{- \\rho^{2} \\left(\\frac{\\kappa}{2 e}\\right)^{2 \\kappa} \\log{\\left(n \\right)}^{- 2 \\kappa}} \\log{\\left(n \\right)}^{- 2 \\kappa}}{n \\log{\\left(n \\right)}} + \\frac{2 \\kappa \\rho^{2} \\left(\\frac{\\kappa}{2 e}\\right)^{2 \\kappa} e^{- \\rho^{2} \\left(\\frac{\\kappa}{2 e}\\right)^{2 \\kappa} \\log{\\left(n \\right)}^{- 2 \\kappa}} \\log{\\left(n \\right)}^{- 2 \\kappa}}{n \\log{\\left(n \\right)}}$"
      ],
      "text/plain": [
       "2*kappa*rho**2*(kappa*exp(-1)/2)**(2*kappa)*(-rho**2*(kappa*exp(-1)/2)**(2*kappa)/log(n)**(2*kappa) - 1)*exp(-rho**2*(kappa*exp(-1)/2)**(2*kappa)/log(n)**(2*kappa))/(n*log(n)*log(n)**(2*kappa)) + 2*kappa*rho**2*(kappa*exp(-1)/2)**(2*kappa)*exp(-rho**2*(kappa*exp(-1)/2)**(2*kappa)/log(n)**(2*kappa))/(n*log(n)*log(n)**(2*kappa))"
      ]
     },
     "execution_count": 9,
     "metadata": {},
     "output_type": "execute_result"
    }
   ],
   "source": [
    "2*kappa*rho**2*(kappa*exp(-1)/2)**(2*kappa)*(-rho**2*(kappa*exp(-1)/2)**(2*kappa)/log(n)**(2*kappa) - 1)*exp(-rho**2*(kappa*exp(-1)/2)**(2*kappa)/log(n)**(2*kappa)) / \\\n",
    "    (n*log(n)*log(n)**(2*kappa)) + 2*kappa*rho**2*(kappa*exp(-1)/2)**(2*kappa) * \\\n",
    "    exp(-rho**2*(kappa*exp(-1)/2)**(2*kappa)/log(n)\n",
    "        ** (2*kappa))/(n*log(n)*log(n)**(2*kappa))\n"
   ]
  },
  {
   "cell_type": "code",
   "execution_count": 11,
   "metadata": {},
   "outputs": [],
   "source": [
    "from sympy.functions.elementary.exponential import LambertW "
   ]
  },
  {
   "cell_type": "code",
   "execution_count": 19,
   "metadata": {},
   "outputs": [
    {
     "data": {
      "text/latex": [
       "$\\displaystyle \\rho \\left(- e W_{-1}\\left(- \\frac{\\left(\\frac{\\rho}{6}\\right)^{\\frac{1}{\\kappa}} \\left(\\frac{8 n}{7}\\right)^{- \\frac{2}{\\kappa}}}{e}\\right)\\right)^{- \\kappa}$"
      ],
      "text/plain": [
       "rho/(-E*LambertW(-(rho/6)**(1/kappa)*exp(-1)/(8*n/7)**(2/kappa), -1))**kappa"
      ]
     },
     "execution_count": 19,
     "metadata": {},
     "output_type": "execute_result"
    }
   ],
   "source": [
    "model_4 = rho * (\n",
    "    -exp(1) * LambertW(\n",
    "        - (1 / exp(1)) * (rho / 6) ** (1 / kappa) * (n * 8/7) ** (-2/kappa)\n",
    "        , -1)\n",
    ")**(-kappa)\n",
    "model_4"
   ]
  },
  {
   "cell_type": "code",
   "execution_count": 20,
   "metadata": {},
   "outputs": [
    {
     "data": {
      "text/latex": [
       "$\\displaystyle \\frac{2 \\rho \\left(- e W_{-1}\\left(- \\frac{\\left(\\frac{\\rho}{6}\\right)^{\\frac{1}{\\kappa}} \\left(\\frac{8 n}{7}\\right)^{- \\frac{2}{\\kappa}}}{e}\\right)\\right)^{- \\kappa}}{n \\left(W_{-1}\\left(- \\frac{\\left(\\frac{\\rho}{6}\\right)^{\\frac{1}{\\kappa}} \\left(\\frac{8 n}{7}\\right)^{- \\frac{2}{\\kappa}}}{e}\\right) + 1\\right)}$"
      ],
      "text/plain": [
       "2*rho/(n*(-E*LambertW(-(rho/6)**(1/kappa)*exp(-1)/(8*n/7)**(2/kappa), -1))**kappa*(LambertW(-(rho/6)**(1/kappa)*exp(-1)/(8*n/7)**(2/kappa), -1) + 1))"
      ]
     },
     "execution_count": 20,
     "metadata": {},
     "output_type": "execute_result"
    }
   ],
   "source": [
    "diff(model_4, n)"
   ]
  },
  {
   "cell_type": "code",
   "execution_count": 21,
   "metadata": {},
   "outputs": [
    {
     "data": {
      "text/latex": [
       "$\\displaystyle - \\left(\\rho^{2} \\left(- e W_{-1}\\left(- \\frac{\\left(\\frac{\\rho}{6}\\right)^{\\frac{1}{\\kappa}} \\left(\\frac{8 n}{7}\\right)^{- \\frac{2}{\\kappa}}}{e}\\right)\\right)^{- 2 \\kappa} + 1\\right) e^{- \\rho^{2} \\left(- e W_{-1}\\left(- \\frac{\\left(\\frac{\\rho}{6}\\right)^{\\frac{1}{\\kappa}} \\left(\\frac{8 n}{7}\\right)^{- \\frac{2}{\\kappa}}}{e}\\right)\\right)^{- 2 \\kappa}} + 1$"
      ],
      "text/plain": [
       "-(rho**2/(-E*LambertW(-(rho/6)**(1/kappa)*exp(-1)/(8*n/7)**(2/kappa), -1))**(2*kappa) + 1)*exp(-rho**2/(-E*LambertW(-(rho/6)**(1/kappa)*exp(-1)/(8*n/7)**(2/kappa), -1))**(2*kappa)) + 1"
      ]
     },
     "execution_count": 21,
     "metadata": {},
     "output_type": "execute_result"
    }
   ],
   "source": [
    "relative_loss_eq = 1 - (1 + model_4 ** 2) * exp(-model_4**2)\n",
    "relative_loss_eq\n"
   ]
  },
  {
   "cell_type": "code",
   "execution_count": 24,
   "metadata": {},
   "outputs": [
    {
     "data": {
      "text/latex": [
       "$\\displaystyle - \\frac{4 \\rho^{2} \\left(- e W_{-1}\\left(- \\frac{\\left(\\frac{\\rho}{6}\\right)^{\\frac{1}{\\kappa}} \\left(\\frac{8 n}{7}\\right)^{- \\frac{2}{\\kappa}}}{e}\\right)\\right)^{- 2 \\kappa} \\left(- \\rho^{2} \\left(- e W_{-1}\\left(- \\frac{\\left(\\frac{\\rho}{6}\\right)^{\\frac{1}{\\kappa}} \\left(\\frac{8 n}{7}\\right)^{- \\frac{2}{\\kappa}}}{e}\\right)\\right)^{- 2 \\kappa} - 1\\right) e^{- \\rho^{2} \\left(- e W_{-1}\\left(- \\frac{\\left(\\frac{\\rho}{6}\\right)^{\\frac{1}{\\kappa}} \\left(\\frac{8 n}{7}\\right)^{- \\frac{2}{\\kappa}}}{e}\\right)\\right)^{- 2 \\kappa}}}{n \\left(W_{-1}\\left(- \\frac{\\left(\\frac{\\rho}{6}\\right)^{\\frac{1}{\\kappa}} \\left(\\frac{8 n}{7}\\right)^{- \\frac{2}{\\kappa}}}{e}\\right) + 1\\right)} - \\frac{4 \\rho^{2} \\left(- e W_{-1}\\left(- \\frac{\\left(\\frac{\\rho}{6}\\right)^{\\frac{1}{\\kappa}} \\left(\\frac{8 n}{7}\\right)^{- \\frac{2}{\\kappa}}}{e}\\right)\\right)^{- 2 \\kappa} e^{- \\rho^{2} \\left(- e W_{-1}\\left(- \\frac{\\left(\\frac{\\rho}{6}\\right)^{\\frac{1}{\\kappa}} \\left(\\frac{8 n}{7}\\right)^{- \\frac{2}{\\kappa}}}{e}\\right)\\right)^{- 2 \\kappa}}}{n \\left(W_{-1}\\left(- \\frac{\\left(\\frac{\\rho}{6}\\right)^{\\frac{1}{\\kappa}} \\left(\\frac{8 n}{7}\\right)^{- \\frac{2}{\\kappa}}}{e}\\right) + 1\\right)}$"
      ],
      "text/plain": [
       "-4*rho**2*(-rho**2/(-E*LambertW(-(rho/6)**(1/kappa)*exp(-1)/(8*n/7)**(2/kappa), -1))**(2*kappa) - 1)*exp(-rho**2/(-E*LambertW(-(rho/6)**(1/kappa)*exp(-1)/(8*n/7)**(2/kappa), -1))**(2*kappa))/(n*(-E*LambertW(-(rho/6)**(1/kappa)*exp(-1)/(8*n/7)**(2/kappa), -1))**(2*kappa)*(LambertW(-(rho/6)**(1/kappa)*exp(-1)/(8*n/7)**(2/kappa), -1) + 1)) - 4*rho**2*exp(-rho**2/(-E*LambertW(-(rho/6)**(1/kappa)*exp(-1)/(8*n/7)**(2/kappa), -1))**(2*kappa))/(n*(-E*LambertW(-(rho/6)**(1/kappa)*exp(-1)/(8*n/7)**(2/kappa), -1))**(2*kappa)*(LambertW(-(rho/6)**(1/kappa)*exp(-1)/(8*n/7)**(2/kappa), -1) + 1))"
      ]
     },
     "execution_count": 24,
     "metadata": {},
     "output_type": "execute_result"
    }
   ],
   "source": [
    "relative_loss_eq.diff(n)\n"
   ]
  },
  {
   "cell_type": "code",
   "execution_count": 26,
   "metadata": {},
   "outputs": [
    {
     "data": {
      "text/plain": [
       "\"rho = Symbol('rho')\\nkappa = Symbol('kappa')\\nn = Symbol('n')\\ne = -4*rho**2*(-rho**2/(-E*LambertW(-(rho/6)**(1/kappa)*exp(-1)/(8*n/7)**(2/kappa), -1))**(2*kappa) - 1)*exp(-rho**2/(-E*LambertW(-(rho/6)**(1/kappa)*exp(-1)/(8*n/7)**(2/kappa), -1))**(2*kappa))/(n*(-E*LambertW(-(rho/6)**(1/kappa)*exp(-1)/(8*n/7)**(2/kappa), -1))**(2*kappa)*(LambertW(-(rho/6)**(1/kappa)*exp(-1)/(8*n/7)**(2/kappa), -1) + 1)) - 4*rho**2*exp(-rho**2/(-E*LambertW(-(rho/6)**(1/kappa)*exp(-1)/(8*n/7)**(2/kappa), -1))**(2*kappa))/(n*(-E*LambertW(-(rho/6)**(1/kappa)*exp(-1)/(8*n/7)**(2/kappa), -1))**(2*kappa)*(LambertW(-(rho/6)**(1/kappa)*exp(-1)/(8*n/7)**(2/kappa), -1) + 1))\""
      ]
     },
     "execution_count": 26,
     "metadata": {},
     "output_type": "execute_result"
    }
   ],
   "source": [
    "python(relative_loss_eq.diff(n))"
   ]
  },
  {
   "cell_type": "code",
   "execution_count": 25,
   "metadata": {},
   "outputs": [
    {
     "data": {
      "text/latex": [
       "$\\displaystyle - \\frac{4 \\rho^{2} \\left(- e W_{-1}\\left(- \\frac{\\left(\\frac{\\rho}{6}\\right)^{\\frac{1}{\\kappa}} \\left(\\frac{8 n}{7}\\right)^{- \\frac{2}{\\kappa}}}{e}\\right)\\right)^{- 2 \\kappa} \\left(- \\rho^{2} \\left(- e W_{-1}\\left(- \\frac{\\left(\\frac{\\rho}{6}\\right)^{\\frac{1}{\\kappa}} \\left(\\frac{8 n}{7}\\right)^{- \\frac{2}{\\kappa}}}{e}\\right)\\right)^{- 2 \\kappa} - 1\\right) e^{- \\rho^{2} \\left(- e W_{-1}\\left(- \\frac{\\left(\\frac{\\rho}{6}\\right)^{\\frac{1}{\\kappa}} \\left(\\frac{8 n}{7}\\right)^{- \\frac{2}{\\kappa}}}{e}\\right)\\right)^{- 2 \\kappa}}}{n \\left(W_{-1}\\left(- \\frac{\\left(\\frac{\\rho}{6}\\right)^{\\frac{1}{\\kappa}} \\left(\\frac{8 n}{7}\\right)^{- \\frac{2}{\\kappa}}}{e}\\right) + 1\\right)} - \\frac{4 \\rho^{2} \\left(- e W_{-1}\\left(- \\frac{\\left(\\frac{\\rho}{6}\\right)^{\\frac{1}{\\kappa}} \\left(\\frac{8 n}{7}\\right)^{- \\frac{2}{\\kappa}}}{e}\\right)\\right)^{- 2 \\kappa} e^{- \\rho^{2} \\left(- e W_{-1}\\left(- \\frac{\\left(\\frac{\\rho}{6}\\right)^{\\frac{1}{\\kappa}} \\left(\\frac{8 n}{7}\\right)^{- \\frac{2}{\\kappa}}}{e}\\right)\\right)^{- 2 \\kappa}}}{n \\left(W_{-1}\\left(- \\frac{\\left(\\frac{\\rho}{6}\\right)^{\\frac{1}{\\kappa}} \\left(\\frac{8 n}{7}\\right)^{- \\frac{2}{\\kappa}}}{e}\\right) + 1\\right)}$"
      ],
      "text/plain": [
       "-4*rho**2*(-rho**2/(-E*LambertW(-(rho/6)**(1/kappa)*exp(-1)/(8*n/7)**(2/kappa), -1))**(2*kappa) - 1)*exp(-rho**2/(-E*LambertW(-(rho/6)**(1/kappa)*exp(-1)/(8*n/7)**(2/kappa), -1))**(2*kappa))/(n*(-E*LambertW(-(rho/6)**(1/kappa)*exp(-1)/(8*n/7)**(2/kappa), -1))**(2*kappa)*(LambertW(-(rho/6)**(1/kappa)*exp(-1)/(8*n/7)**(2/kappa), -1) + 1)) - 4*rho**2*exp(-rho**2/(-E*LambertW(-(rho/6)**(1/kappa)*exp(-1)/(8*n/7)**(2/kappa), -1))**(2*kappa))/(n*(-E*LambertW(-(rho/6)**(1/kappa)*exp(-1)/(8*n/7)**(2/kappa), -1))**(2*kappa)*(LambertW(-(rho/6)**(1/kappa)*exp(-1)/(8*n/7)**(2/kappa), -1) + 1))"
      ]
     },
     "execution_count": 25,
     "metadata": {},
     "output_type": "execute_result"
    }
   ],
   "source": [
    "-4*rho**2*(-rho**2/(-E*LambertW(-(rho/6)**(1/kappa)*exp(-1)/(8*n/7)**(2/kappa), -1))**(2*kappa) - 1)*exp(-rho**2/(-E*LambertW(-(rho/6)**(1/kappa)*exp(-1)/(8*n/7)**(2/kappa), -1))**(2*kappa))/(n*(-E*LambertW(-(rho/6)**(1/kappa)*exp(-1)/(8*n/7)**(2/kappa), -1))**(2*kappa)*(LambertW(-(rho/6) **(1/kappa)*exp(-1)/(8*n/7)**(2/kappa), -1) + 1)) - 4*rho**2*exp(-rho**2/(-E*LambertW(-(rho/6)**(1/kappa)*exp(-1)/(8*n/7)**(2/kappa), -1))**(2*kappa))/(n*(-E*LambertW(-(rho/6)**(1/kappa)*exp(-1)/(8*n/7)**(2/kappa), -1))**(2*kappa)*(LambertW(-(rho/6)**(1/kappa)*exp(-1)/(8*n/7)**(2/kappa), -1) + 1))\n"
   ]
  },
  {
   "cell_type": "code",
   "execution_count": 27,
   "metadata": {},
   "outputs": [
    {
     "data": {
      "text/latex": [
       "$\\displaystyle e$"
      ],
      "text/plain": [
       "E"
      ]
     },
     "execution_count": 27,
     "metadata": {},
     "output_type": "execute_result"
    }
   ],
   "source": [
    "E"
   ]
  },
  {
   "cell_type": "code",
   "execution_count": 28,
   "metadata": {},
   "outputs": [
    {
     "data": {
      "text/latex": [
       "$\\displaystyle e$"
      ],
      "text/plain": [
       "E"
      ]
     },
     "execution_count": 28,
     "metadata": {},
     "output_type": "execute_result"
    }
   ],
   "source": [
    "exp(1)"
   ]
  },
  {
   "cell_type": "code",
   "execution_count": null,
   "metadata": {},
   "outputs": [],
   "source": []
  }
 ],
 "metadata": {
  "interpreter": {
   "hash": "871aeb43e99df445217f8150e40694afb64d0600c0573b6bac502dee120165de"
  },
  "kernelspec": {
   "display_name": "Python 3.8.12 ('base')",
   "language": "python",
   "name": "python3"
  },
  "language_info": {
   "codemirror_mode": {
    "name": "ipython",
    "version": 3
   },
   "file_extension": ".py",
   "mimetype": "text/x-python",
   "name": "python",
   "nbconvert_exporter": "python",
   "pygments_lexer": "ipython3",
   "version": "3.8.12"
  },
  "orig_nbformat": 4
 },
 "nbformat": 4,
 "nbformat_minor": 2
}
